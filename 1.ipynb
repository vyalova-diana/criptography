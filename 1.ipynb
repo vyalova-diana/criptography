{
 "cells": [
  {
   "cell_type": "markdown",
   "metadata": {},
   "source": [
    "# 1"
   ]
  },
  {
   "cell_type": "markdown",
   "metadata": {},
   "source": [
    "Вывести 𝑘−ый бит числа 𝑎. "
   ]
  },
  {
   "cell_type": "code",
   "execution_count": 20,
   "metadata": {},
   "outputs": [],
   "source": [
    "def get_k_bit(num, bit_k):\n",
    "    num = int(num, 2) #возвращает значение в десятичной системе счисления\n",
    "    num = (num >> (int(bit_k) - 1)) & 1 #сдвигаем на (k-1) бит вправо и применяем битовое \"И\" с 1\n",
    "\n",
    "    return num\n"
   ]
  },
  {
   "cell_type": "code",
   "execution_count": 21,
   "metadata": {},
   "outputs": [
    {
     "data": {
      "text/plain": [
       "1"
      ]
     },
     "execution_count": 21,
     "metadata": {},
     "output_type": "execute_result"
    }
   ],
   "source": [
    "get_k_bit('1010101111101', '5')"
   ]
  },
  {
   "cell_type": "code",
   "execution_count": 22,
   "metadata": {},
   "outputs": [
    {
     "data": {
      "text/plain": [
       "1"
      ]
     },
     "execution_count": 22,
     "metadata": {},
     "output_type": "execute_result"
    }
   ],
   "source": [
    "get_k_bit('101010', '2')"
   ]
  },
  {
   "cell_type": "markdown",
   "metadata": {},
   "source": [
    "Установить/снять 𝑘−ый бит числа 𝑎."
   ]
  },
  {
   "cell_type": "code",
   "execution_count": 25,
   "metadata": {},
   "outputs": [],
   "source": [
    "def set_k_bit(num, bit_k):\n",
    "    num = int(num, 2)\n",
    "    num = (1 << (int(bit_k) - 1)) | num #сдвигаем единичный бит в \"1\" на k позицию, применяем побитовое \"ИЛИ\" к исходному числу\n",
    "    \n",
    "    return num"
   ]
  },
  {
   "cell_type": "code",
   "execution_count": 30,
   "metadata": {},
   "outputs": [
    {
     "data": {
      "text/plain": [
       "True"
      ]
     },
     "execution_count": 30,
     "metadata": {},
     "output_type": "execute_result"
    }
   ],
   "source": [
    "set_k_bit('10010', '3') == int('10110',2)"
   ]
  },
  {
   "cell_type": "code",
   "execution_count": 33,
   "metadata": {},
   "outputs": [],
   "source": [
    "def reset_k_bit(num, bit_k):\n",
    "    num = int(num, 2)\n",
    "    num = num & ~(1 << (int(bit_k) - 1))#сдвигаем единичный бит в \"1\" на k позицию,инвертируем,применяем побитовое \"И\" к исходному числу\n",
    "    \n",
    "    return num"
   ]
  },
  {
   "cell_type": "code",
   "execution_count": 34,
   "metadata": {},
   "outputs": [
    {
     "data": {
      "text/plain": [
       "True"
      ]
     },
     "execution_count": 34,
     "metadata": {},
     "output_type": "execute_result"
    }
   ],
   "source": [
    "reset_k_bit('10110', '3') == int('10010',2)"
   ]
  },
  {
   "cell_type": "markdown",
   "metadata": {},
   "source": [
    "Поменять местами 𝑖−ый и 𝑗−ый биты в числе 𝑎. Числа 𝑖 и 𝑗 предварительно запросить у пользователя."
   ]
  },
  {
   "cell_type": "code",
   "execution_count": 36,
   "metadata": {},
   "outputs": [],
   "source": [
    "def swap_bits(num,bit_i,bit_j):\n",
    "    i = get_k_bit(num, bit_i)\n",
    "    j = get_k_bit(num, bit_j)\n",
    "    if not i & j: #если есть нулевой бит\n",
    "        if i: #если i=1\n",
    "            num = reset_k_bit(num, bit_i) #снимаем i-ый бит\n",
    "            num = set_k_bit(bin(num), bit_j)#устанавливаем j-ый бит\n",
    "        else: #если j=1\n",
    "            num = reset_k_bit(num, bit_j) #снимаем j-ый бит\n",
    "            num = set_k_bit(bin(num), bit_i) #устанавливаем i-ый бит\n",
    "    \n",
    "    return num"
   ]
  },
  {
   "cell_type": "code",
   "execution_count": 37,
   "metadata": {},
   "outputs": [
    {
     "data": {
      "text/plain": [
       "True"
      ]
     },
     "execution_count": 37,
     "metadata": {},
     "output_type": "execute_result"
    }
   ],
   "source": [
    "swap_bits('101010', '1', '2')== int('101001',2)"
   ]
  },
  {
   "cell_type": "code",
   "execution_count": 38,
   "metadata": {},
   "outputs": [
    {
     "data": {
      "text/plain": [
       "True"
      ]
     },
     "execution_count": 38,
     "metadata": {},
     "output_type": "execute_result"
    }
   ],
   "source": [
    "swap_bits('1010101111101', '5', '8') == int('1010111101101',2)"
   ]
  },
  {
   "cell_type": "markdown",
   "metadata": {},
   "source": [
    "Обнулить младшие k бит."
   ]
  },
  {
   "cell_type": "code",
   "execution_count": 39,
   "metadata": {},
   "outputs": [],
   "source": [
    "def reset_first_k_bit(num, bit_k):\n",
    "    num = int(num, 2)\n",
    "    num = (num >> int(bit_k)) << int(bit_k) #сдвигаем вправо, затем влево,заполняя нулями\n",
    "    \n",
    "    return num"
   ]
  },
  {
   "cell_type": "code",
   "execution_count": 41,
   "metadata": {},
   "outputs": [
    {
     "data": {
      "text/plain": [
       "True"
      ]
     },
     "execution_count": 41,
     "metadata": {},
     "output_type": "execute_result"
    }
   ],
   "source": [
    "reset_first_k_bit('101111', '3')==int('101000',2)"
   ]
  },
  {
   "cell_type": "code",
   "execution_count": 42,
   "metadata": {},
   "outputs": [
    {
     "data": {
      "text/plain": [
       "True"
      ]
     },
     "execution_count": 42,
     "metadata": {},
     "output_type": "execute_result"
    }
   ],
   "source": [
    "reset_first_k_bit('1010101111111', '5') == int('1010101100000',2)"
   ]
  },
  {
   "cell_type": "markdown",
   "metadata": {},
   "source": [
    "# 2"
   ]
  },
  {
   "cell_type": "markdown",
   "metadata": {},
   "source": [
    "A) «Склеить» первые 𝑖 битов с последними 𝑖 битами из целого числа длиной 𝑙𝑒𝑛 битов. Пример.Пусть есть 12-ти разрядное целое число, представленное в двоичной системе счисления 100011101101. «Склеим» первые 3 и последние 3 бита, получим 100101."
   ]
  },
  {
   "cell_type": "code",
   "execution_count": 65,
   "metadata": {},
   "outputs": [],
   "source": [
    "def link_bits(num, bit_i, bit_j):\n",
    "    \n",
    "    num = int(num, 2)\n",
    "    num_len = num.bit_length()\n",
    "    mask = 2 ** num_len - 1\n",
    "    first_i = (num >> (num_len - int(bit_i))) << int(bit_j) #сдвигаем вправо все биты кроме первых i,затем сдвигаем влево на j, чтобы подготовить место\n",
    "    last_j = ((num << (num_len - int(bit_j))) & mask) >> (num_len - int(bit_j)) #сдвигаем влево на num_len - j, с помощью маски ограничиваем область,сдвигаем вправо\n",
    "    result = first_i | last_j\n",
    "    \n",
    "    return result"
   ]
  },
  {
   "cell_type": "code",
   "execution_count": 66,
   "metadata": {},
   "outputs": [
    {
     "data": {
      "text/plain": [
       "True"
      ]
     },
     "execution_count": 66,
     "metadata": {},
     "output_type": "execute_result"
    }
   ],
   "source": [
    "link_bits('100011101101','3','3')==int('100101',2)"
   ]
  },
  {
   "cell_type": "markdown",
   "metadata": {},
   "source": [
    "B) Получить биты из целого числа длиной 𝑙𝑒𝑛 битов, находящиеся между первыми 𝑖 битами и последними 𝑖 битами. Пример.Пусть есть 12-ти разрядное целое число, представленное в двоичной системе счисления 100011101101. Получим биты находящиеся между первыми 3 и последними 3 битами: 011101.\n"
   ]
  },
  {
   "cell_type": "code",
   "execution_count": 67,
   "metadata": {},
   "outputs": [],
   "source": [
    "def get_bits_between(num, bit_i, bit_j):\n",
    "    \n",
    "    num = int(num, 2)\n",
    "    mask = 2 ** (num.bit_length() - int(bit_j)) - 1\n",
    "    result = ((((num >> int(bit_j)) << int(bit_i)) & mask) >> int(bit_i)) #сдвигаем вправо на j,затем влево на i.С обеих сторон от нужной части по i бит.Отсекаем слева i бит с помощью маски. Сдвигаем вправо на i бит.\n",
    "  \n",
    "    return result"
   ]
  },
  {
   "cell_type": "code",
   "execution_count": 68,
   "metadata": {},
   "outputs": [
    {
     "data": {
      "text/plain": [
       "True"
      ]
     },
     "execution_count": 68,
     "metadata": {},
     "output_type": "execute_result"
    }
   ],
   "source": [
    "get_bits_between('100011101101','5','3') == int ('1101',2)"
   ]
  },
  {
   "cell_type": "markdown",
   "metadata": {},
   "source": [
    "# 3"
   ]
  },
  {
   "cell_type": "markdown",
   "metadata": {},
   "source": [
    "Дано 2^p разрядное целое число. «Поксорить»все биты этого числадруг с другом. Пример.101110001→1;11100111→0."
   ]
  },
  {
   "cell_type": "code",
   "execution_count": 71,
   "metadata": {},
   "outputs": [],
   "source": [
    "def xor_all_bits(num):\n",
    "\n",
    "    if num.bit_length() == 1 or num.bit_length() == 0:\n",
    "        return num\n",
    "    len = num.bit_length()\n",
    "    m = len // 2\n",
    "    left = num >> (len - m) #сдвиг вправо на половину длины\n",
    "    mask = 2 ** num.bit_length() - 1\n",
    "    right = ((num << m) & mask) >> m #сдвиг влево на половину длины,отсекаем левую часть с помощью маски,сдвиг вправо\n",
    "    return xor_all_bits(left ^ right) #рекурсия\n",
    "\n",
    "def xor_all(num):\n",
    "    num = int(num, 2)\n",
    "    result = xor_all_bits(num)\n",
    "    \n",
    "    return result"
   ]
  },
  {
   "cell_type": "code",
   "execution_count": 72,
   "metadata": {},
   "outputs": [
    {
     "data": {
      "text/plain": [
       "True"
      ]
     },
     "execution_count": 72,
     "metadata": {},
     "output_type": "execute_result"
    }
   ],
   "source": [
    "xor_all('11100111') == 0"
   ]
  },
  {
   "cell_type": "code",
   "execution_count": 73,
   "metadata": {
    "scrolled": true
   },
   "outputs": [
    {
     "data": {
      "text/plain": [
       "True"
      ]
     },
     "execution_count": 73,
     "metadata": {},
     "output_type": "execute_result"
    }
   ],
   "source": [
    "xor_all('101110001') == 1"
   ]
  },
  {
   "cell_type": "markdown",
   "metadata": {},
   "source": [
    "# 4"
   ]
  },
  {
   "cell_type": "markdown",
   "metadata": {},
   "source": [
    "Написать методы циклического сдвига в 2^p разрядном целом числе на 𝑛 бит влево и вправо."
   ]
  },
  {
   "cell_type": "code",
   "execution_count": 135,
   "metadata": {},
   "outputs": [],
   "source": [
    "def left_rotate(num, k_bit):\n",
    "    \n",
    "    num = int(num, 2)\n",
    "    l=num.bit_length()\n",
    "    mask = 2 ** l - 1\n",
    "    result = ((num << int(k_bit)) | (num >> (l - int(k_bit)))) & mask\n",
    "\n",
    "    return result \n",
    "\n",
    "\n",
    "def right_rotate(num, k_bit):\n",
    "    \n",
    "    num = int(num, 2)\n",
    "    l=num.bit_length()\n",
    "    mask = 2 ** l - 1\n",
    "    result = ((num >> int(k_bit)) | (num << (l - int(k_bit)))) & mask\n",
    "    \n",
    "    return result"
   ]
  },
  {
   "cell_type": "code",
   "execution_count": 130,
   "metadata": {},
   "outputs": [
    {
     "data": {
      "text/plain": [
       "'0b10101'"
      ]
     },
     "execution_count": 130,
     "metadata": {},
     "output_type": "execute_result"
    }
   ],
   "source": [
    "bin(left_rotate('10110','3')) "
   ]
  },
  {
   "cell_type": "code",
   "execution_count": 136,
   "metadata": {},
   "outputs": [
    {
     "data": {
      "text/plain": [
       "'0b11010'"
      ]
     },
     "execution_count": 136,
     "metadata": {},
     "output_type": "execute_result"
    }
   ],
   "source": [
    "bin(right_rotate('10110','3')) "
   ]
  }
 ],
 "metadata": {
  "kernelspec": {
   "display_name": "Python 3",
   "language": "python",
   "name": "python3"
  },
  "language_info": {
   "codemirror_mode": {
    "name": "ipython",
    "version": 3
   },
   "file_extension": ".py",
   "mimetype": "text/x-python",
   "name": "python",
   "nbconvert_exporter": "python",
   "pygments_lexer": "ipython3",
   "version": "3.7.3"
  }
 },
 "nbformat": 4,
 "nbformat_minor": 2
}
